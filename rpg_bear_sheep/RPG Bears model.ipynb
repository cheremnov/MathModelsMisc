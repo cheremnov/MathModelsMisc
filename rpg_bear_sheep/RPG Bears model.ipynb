{
 "cells": [
  {
   "cell_type": "markdown",
   "id": "be52d50a",
   "metadata": {},
   "source": [
    "An agent-based model for modeling the dynamics in the \"RPG system\" environment. That is, the world where humans and monsters have the game-like system rewarding murder with XP. In this simulation, we choose bears as \"monsters\".\n",
    "\n",
    "It's unclear which strategy is the best for predators: to kill every other competitor in the pursuit of those precious XP points, or to stay as far from others as possible. Let's find it out!\n",
    "\n",
    "## Terms\n",
    "\n",
    "Bears spend **energy** to stay alive, while sheep doesn't (just to simplify the model). Bears gain energy from eating sheep (`bear_gain_from_food`), but not after killing bears (no cannibalism). Female bears give half of her energy to newborn cubs.\n",
    "\n",
    "Bears gain **XP** after each murder. For each sheep, they are getting a constant amount of XP (`xp_for_sheep`). For each murdered bear, they gain a base amount of XP (`xp_for_bear`)  and half of the XP attained by the slain bear.\n",
    "\n",
    "Not every sheep **hunt** succeeds, the chance to succeed depends on the bear level and a base chance (`hunt_succeed_chance`).\n",
    "\n",
    "Bears enter in a **mating season** each `mating_season_frequency` seasons. During a mating season, bears don't attack opposite gender bears.\n",
    "\n",
    "A female bear stays with her cubs for a certain amount of time, protecting them from the danger and assisting them in their hunts.\n",
    "\n",
    "## Model assumptions\n",
    "\n",
    "1. Hunting becomes easier the more levels the bear gains.\n",
    "2. In a fight, a high-level bear has an edge on a low-level bear.\n",
    "3. Females prefer males with a higher level and with the same behavior as them.\n",
    "\n",
    "\n",
    "## Predator types\n",
    "\n",
    "Bears divide into two types:\n",
    "- __aggressive__, who attack everyone in the line of sight (they are very nasty bears, you see). The only exception is the mating season.\n",
    "- __cowards__, who never attack anyone except for sheep.\n",
    "\n",
    "__Cowards__ can only fight if they are attacked or their cubs are attacked. __Cowards__ care about their young longer that __aggressive__ ones, because their aggression levels are lowered. To compensate for this, __aggressive__ ones have bigger litter size.\n",
    "\n",
    "\n",
    "## Distributions\n",
    "\n",
    "Level progression and fights obey the exponential distribution. The more level a bear attains, the harder it becomes to level up and the easier it is to fight against others. Not every fight comes in favour of the higher leveled bear, but most of them.\n",
    "\n",
    "Other random variables, like the number of cubs, are modeled by simple linear distribution."
   ]
  },
  {
   "cell_type": "code",
   "execution_count": 1,
   "id": "65e62b4d",
   "metadata": {},
   "outputs": [],
   "source": [
    "import matplotlib.pyplot as plt"
   ]
  },
  {
   "cell_type": "code",
   "execution_count": 2,
   "id": "efad07ee",
   "metadata": {},
   "outputs": [
    {
     "name": "stdout",
     "output_type": "stream",
     "text": [
      "Initial number wolves:  300\n",
      "Initial number sheep:  1000\n",
      "Initial coward bears:  150\n",
      "Initial aggressive bears:  150\n",
      "[1, 258, 148, 1062]\n",
      "[2, 182, 118, 1154]\n",
      "[3, 137, 102, 1267]\n",
      "[4, 114, 92, 1337]\n",
      "[5, 117, 100, 1399]\n",
      "[6, 110, 98, 1498]\n",
      "[7, 105, 95, 1597]\n",
      "[8, 98, 91, 1707]\n",
      "[9, 111, 107, 1810]\n",
      "[10, 110, 106, 1946]\n",
      "[11, 106, 104, 1980]\n",
      "[12, 106, 104, 1973]\n",
      "[13, 114, 112, 1976]\n",
      "[14, 111, 109, 1977]\n",
      "[15, 110, 109, 1975]\n",
      "[16, 109, 108, 1975]\n",
      "[17, 125, 124, 1975]\n",
      "[18, 125, 124, 1977]\n",
      "[19, 125, 124, 1967]\n",
      "[20, 119, 118, 1979]\n",
      "[21, 123, 122, 1979]\n",
      "[22, 120, 120, 1978]\n",
      "[23, 119, 119, 1974]\n",
      "[24, 115, 115, 1979]\n",
      "[25, 130, 130, 1977]\n",
      "[26, 127, 127, 1967]\n",
      "[27, 117, 117, 1982]\n",
      "[28, 116, 116, 1977]\n",
      "[29, 132, 132, 1971]\n",
      "[30, 132, 132, 1971]\n",
      "[31, 129, 129, 1972]\n",
      "[32, 127, 127, 1961]\n",
      "[33, 137, 137, 1976]\n",
      "[34, 131, 131, 1968]\n",
      "[35, 122, 122, 1978]\n",
      "[36, 121, 121, 1968]\n",
      "[37, 132, 132, 1977]\n",
      "[38, 130, 130, 1977]\n",
      "[39, 128, 128, 1973]\n",
      "[40, 124, 124, 1971]\n",
      "[41, 134, 134, 1981]\n",
      "[42, 132, 132, 1980]\n",
      "[43, 126, 126, 1981]\n",
      "[44, 120, 120, 1983]\n",
      "[45, 118, 118, 1980]\n",
      "[46, 112, 112, 1976]\n",
      "[47, 108, 108, 1980]\n",
      "[48, 106, 106, 1981]\n",
      "[49, 110, 110, 1981]\n",
      "[50, 107, 107, 1982]\n",
      "[51, 106, 106, 1976]\n",
      "[52, 100, 100, 1975]\n",
      "[53, 104, 104, 1975]\n",
      "[54, 103, 103, 1983]\n",
      "[55, 100, 100, 1977]\n",
      "[56, 94, 94, 1979]\n",
      "[57, 94, 94, 1981]\n",
      "[58, 94, 94, 1985]\n",
      "[59, 90, 90, 1976]\n",
      "[60, 89, 89, 1978]\n",
      "[61, 95, 95, 1977]\n",
      "[62, 92, 92, 1982]\n",
      "[63, 87, 87, 1986]\n",
      "[64, 86, 86, 1987]\n",
      "[65, 90, 90, 1980]\n",
      "[66, 86, 86, 1985]\n",
      "[67, 86, 86, 1985]\n",
      "[68, 84, 84, 1989]\n",
      "[69, 88, 88, 1977]\n",
      "[70, 81, 81, 1983]\n",
      "[71, 76, 76, 1987]\n",
      "[72, 76, 76, 1988]\n",
      "[73, 89, 89, 1985]\n",
      "[74, 80, 80, 1984]\n",
      "[75, 77, 77, 1984]\n",
      "[76, 74, 74, 1982]\n",
      "[77, 74, 74, 1983]\n",
      "[78, 73, 73, 1986]\n",
      "[79, 72, 72, 1981]\n",
      "[80, 72, 72, 1986]\n",
      "[81, 75, 75, 1982]\n",
      "[82, 73, 73, 1984]\n",
      "[83, 73, 73, 1979]\n",
      "[84, 73, 73, 1984]\n",
      "[85, 82, 82, 1977]\n",
      "[86, 78, 78, 1990]\n",
      "[87, 78, 78, 1988]\n",
      "[88, 75, 75, 1984]\n",
      "[89, 71, 71, 1989]\n",
      "[90, 66, 66, 1985]\n",
      "[91, 64, 64, 1987]\n",
      "[92, 60, 60, 1984]\n",
      "[93, 61, 61, 1987]\n",
      "[94, 59, 59, 1987]\n",
      "[95, 59, 59, 1988]\n",
      "[96, 58, 58, 1993]\n",
      "[97, 58, 58, 1984]\n",
      "[98, 57, 57, 1990]\n",
      "[99, 55, 55, 1983]\n",
      "[100, 55, 55, 1986]\n",
      "[101, 67, 67, 1987]\n",
      "[102, 65, 65, 1985]\n",
      "[103, 60, 60, 1987]\n",
      "[104, 57, 57, 1988]\n",
      "[105, 58, 58, 1989]\n",
      "[106, 52, 52, 1991]\n",
      "[107, 49, 49, 1992]\n",
      "[108, 49, 49, 1988]\n",
      "[109, 50, 50, 1987]\n",
      "[110, 48, 48, 1991]\n",
      "[111, 42, 42, 1991]\n",
      "[112, 40, 40, 1989]\n",
      "[113, 41, 41, 1993]\n",
      "[114, 41, 41, 1992]\n",
      "[115, 41, 41, 1993]\n",
      "[116, 40, 40, 1995]\n",
      "[117, 48, 48, 1989]\n",
      "[118, 44, 44, 1991]\n",
      "[119, 44, 44, 1991]\n",
      "[120, 43, 43, 1990]\n",
      "[121, 40, 40, 1991]\n",
      "[122, 39, 39, 1993]\n",
      "[123, 37, 37, 1993]\n",
      "[124, 37, 37, 1994]\n",
      "[125, 35, 35, 1995]\n",
      "[126, 33, 33, 1997]\n",
      "[127, 32, 32, 1997]\n",
      "[128, 32, 32, 1996]\n",
      "[129, 32, 32, 1995]\n",
      "[130, 32, 32, 1994]\n",
      "[131, 32, 32, 1991]\n",
      "[132, 32, 32, 1993]\n",
      "[133, 32, 32, 1992]\n",
      "[134, 31, 31, 1993]\n",
      "[135, 31, 31, 1992]\n",
      "[136, 29, 29, 1996]\n",
      "[137, 28, 28, 1992]\n",
      "[138, 28, 28, 1991]\n",
      "[139, 28, 28, 1994]\n",
      "[140, 28, 28, 1993]\n",
      "[141, 33, 33, 1991]\n",
      "[142, 29, 29, 1995]\n",
      "[143, 28, 28, 1993]\n",
      "[144, 27, 27, 1994]\n",
      "[145, 28, 28, 1995]\n",
      "[146, 27, 27, 1992]\n",
      "[147, 24, 24, 1996]\n",
      "[148, 24, 24, 1995]\n",
      "[149, 23, 23, 1996]\n",
      "[150, 22, 22, 1996]\n",
      "[151, 21, 21, 1993]\n",
      "[152, 21, 21, 1990]\n",
      "[153, 21, 21, 1993]\n",
      "[154, 20, 20, 1996]\n",
      "[155, 20, 20, 1998]\n",
      "[156, 20, 20, 1995]\n",
      "[157, 27, 27, 1994]\n",
      "[158, 24, 24, 1994]\n",
      "[159, 21, 21, 1993]\n",
      "[160, 20, 20, 1992]\n",
      "[161, 19, 19, 1993]\n",
      "[162, 18, 18, 1995]\n",
      "[163, 18, 18, 1996]\n",
      "[164, 18, 18, 1996]\n",
      "[165, 18, 18, 1995]\n",
      "[166, 18, 18, 1996]\n",
      "[167, 18, 18, 1996]\n",
      "[168, 16, 16, 1996]\n",
      "[169, 16, 16, 1996]\n",
      "[170, 16, 16, 1994]\n",
      "[171, 16, 16, 1999]\n",
      "[172, 16, 16, 1998]\n",
      "[173, 16, 16, 1997]\n",
      "[174, 16, 16, 1998]\n",
      "[175, 16, 16, 1997]\n",
      "[176, 16, 16, 1992]\n",
      "[177, 16, 16, 1994]\n",
      "[178, 16, 16, 1997]\n",
      "[179, 16, 16, 1996]\n",
      "[180, 16, 16, 1997]\n",
      "[181, 16, 16, 1998]\n",
      "[182, 16, 16, 1995]\n",
      "[183, 16, 16, 1998]\n",
      "[184, 16, 16, 1995]\n",
      "[185, 16, 16, 1995]\n",
      "[186, 16, 16, 1995]\n",
      "[187, 16, 16, 1996]\n",
      "[188, 16, 16, 1992]\n",
      "[189, 16, 16, 1995]\n",
      "[190, 16, 16, 1993]\n",
      "[191, 16, 16, 1996]\n",
      "[192, 16, 16, 1996]\n",
      "[193, 16, 16, 1995]\n",
      "[194, 16, 16, 1999]\n",
      "[195, 16, 16, 1997]\n",
      "[196, 16, 16, 1996]\n",
      "[197, 16, 16, 1995]\n",
      "[198, 16, 16, 1998]\n",
      "[199, 16, 16, 1994]\n",
      "[200, 16, 16, 1997]\n",
      "\n",
      "Final number wolves:  16\n",
      "Final number sheep:  1997\n",
      "Final coward bears:  16\n",
      "Final aggressive bears:  0\n",
      "     Bears  Sheep  Coward bears  Aggressive bears  Average coward level  \\\n",
      "0      258   1062           148               110              1.547297   \n",
      "1      182   1154           118                64              2.161017   \n",
      "2      137   1267           102                35              2.676471   \n",
      "3      114   1337            92                22              3.163043   \n",
      "4      117   1399           100                17              3.040000   \n",
      "..     ...    ...           ...               ...                   ...   \n",
      "195     16   1996            16                 0              4.375000   \n",
      "196     16   1995            16                 0              4.375000   \n",
      "197     16   1998            16                 0              4.375000   \n",
      "198     16   1994            16                 0              4.375000   \n",
      "199     16   1997            16                 0              4.375000   \n",
      "\n",
      "     Average aggressive level  Cubs  \n",
      "0                    2.454545    19  \n",
      "1                    4.125000     9  \n",
      "2                    5.257143     9  \n",
      "3                    4.727273     7  \n",
      "4                    4.941176    20  \n",
      "..                        ...   ...  \n",
      "195                  0.000000     0  \n",
      "196                  0.000000     0  \n",
      "197                  0.000000     0  \n",
      "198                  0.000000     0  \n",
      "199                  0.000000     0  \n",
      "\n",
      "[200 rows x 7 columns]\n"
     ]
    }
   ],
   "source": [
    "from model import BearSheepPredation\n",
    "\n",
    "model = BearSheepPredation(sheep_reproduce=0.08,initial_sheep=1000,initial_cowards=150, initial_aggressive=150,xp_for_sheep=1)\n",
    "model.run_model()\n",
    "#server = ModularServer(WolfSheepPredation\n",
    "print(model.datacollector.get_model_vars_dataframe())"
   ]
  },
  {
   "cell_type": "code",
   "execution_count": 3,
   "id": "3739d626",
   "metadata": {},
   "outputs": [],
   "source": [
    "basic_experiment_df = model.datacollector.get_model_vars_dataframe()"
   ]
  },
  {
   "cell_type": "code",
   "execution_count": 4,
   "id": "2c308817",
   "metadata": {},
   "outputs": [
    {
     "data": {
      "image/png": "[encoded data removed]",
      "text/plain": [
       "<Figure size 432x288 with 1 Axes>"
      ]
     },
     "metadata": {
      "needs_background": "light"
     },
     "output_type": "display_data"
    }
   ],
   "source": [
    "basic_experiment_df[\"Coward bears\"].plot(label=\"Coward bears\")\n",
    "basic_experiment_df[\"Aggressive bears\"].plot(label=\"Aggressive bears\")\n",
    "plt.title(\"Number of bears per time\")\n",
    "plt.legend()\n",
    "plt.show()"
   ]
  },
  {
   "cell_type": "code",
   "execution_count": 5,
   "id": "374c520a",
   "metadata": {},
   "outputs": [
    {
     "data": {
      "image/png": "[encoded data removed]",
      "text/plain": [
       "<Figure size 432x288 with 1 Axes>"
      ]
     },
     "metadata": {
      "needs_background": "light"
     },
     "output_type": "display_data"
    }
   ],
   "source": [
    "basic_experiment_df[\"Average coward level\"].plot(label=\"Coward bears\")\n",
    "basic_experiment_df[\"Average aggressive level\"].plot(label=\"Aggressive bears\")\n",
    "plt.title(\"Average bear level\")\n",
    "plt.legend()\n",
    "plt.show()"
   ]
  },
  {
   "cell_type": "code",
   "execution_count": 6,
   "id": "6486e73b",
   "metadata": {},
   "outputs": [
    {
     "data": {
      "image/png": "[encoded data removed]",
      "text/plain": [
       "<Figure size 432x288 with 1 Axes>"
      ]
     },
     "metadata": {
      "needs_background": "light"
     },
     "output_type": "display_data"
    }
   ],
   "source": [
    "basic_experiment_df[\"Cubs\"].plot(label=\"Cubs\")\n",
    "plt.show()"
   ]
  },
  {
   "cell_type": "markdown",
   "id": "cc4e1039",
   "metadata": {},
   "source": [
    "## Playground\n",
    "\n",
    "Here, you can play with model parameters as you wish. Have fun!"
   ]
  },
  {
   "cell_type": "code",
   "execution_count": 7,
   "id": "b76edac7",
   "metadata": {},
   "outputs": [],
   "source": [
    "from ipywidgets import interact, interactive, fixed, interact_manual, Layout\n",
    "import ipywidgets as widgets"
   ]
  },
  {
   "cell_type": "code",
   "execution_count": 81,
   "id": "b9a7edd0",
   "metadata": {},
   "outputs": [
    {
     "data": {
      "application/vnd.jupyter.widget-view+json": {
       "model_id": "8fdaa775494148aca051a074c18fd2d3",
       "version_major": 2,
       "version_minor": 0
      },
      "text/plain": [
       "FloatSlider(value=0.06, description='Base hunt success chance', layout=Layout(width='100%'), max=1.0, step=0.0…"
      ]
     },
     "metadata": {},
     "output_type": "display_data"
    },
    {
     "data": {
      "application/vnd.jupyter.widget-view+json": {
       "model_id": "3427f7d51b2b41f4a844737a1b2c3a93",
       "version_major": 2,
       "version_minor": 0
      },
      "text/plain": [
       "FloatLogSlider(value=40.0, description='Energy for eating a sheep', layout=Layout(width='100%'), max=6.0, step…"
      ]
     },
     "metadata": {},
     "output_type": "display_data"
    },
    {
     "data": {
      "application/vnd.jupyter.widget-view+json": {
       "model_id": "2512f9a1df69438db67699a13a50ca40",
       "version_major": 2,
       "version_minor": 0
      },
      "text/plain": [
       "IntRangeSlider(value=(1, 4), description='Coward bear litter size', layout=Layout(width='100%'), max=8, min=1,…"
      ]
     },
     "metadata": {},
     "output_type": "display_data"
    },
    {
     "data": {
      "application/vnd.jupyter.widget-view+json": {
       "model_id": "817e6570bd2844bfb6a78ea018ae08b4",
       "version_major": 2,
       "version_minor": 0
      },
      "text/plain": [
       "IntRangeSlider(value=(1, 6), description='Aggressive bear litter size', layout=Layout(width='100%'), max=8, mi…"
      ]
     },
     "metadata": {},
     "output_type": "display_data"
    },
    {
     "data": {
      "application/vnd.jupyter.widget-view+json": {
       "model_id": "1b13b961e47c4bb98f9614212646d71f",
       "version_major": 2,
       "version_minor": 0
      },
      "text/plain": [
       "IntRangeSlider(value=(8, 16), description='Coward bear parental care time', layout=Layout(width='100%'), max=1…"
      ]
     },
     "metadata": {},
     "output_type": "display_data"
    },
    {
     "data": {
      "application/vnd.jupyter.widget-view+json": {
       "model_id": "f7e7bacca10d47a0a92ace8ad4c6d899",
       "version_major": 2,
       "version_minor": 0
      },
      "text/plain": [
       "IntRangeSlider(value=(1, 8), description='Aggressive bear parental care time', layout=Layout(width='100%'), ma…"
      ]
     },
     "metadata": {},
     "output_type": "display_data"
    },
    {
     "data": {
      "application/vnd.jupyter.widget-view+json": {
       "model_id": "315677c88f24465a84a3d1d61a5addcf",
       "version_major": 2,
       "version_minor": 0
      },
      "text/plain": [
       "IntSlider(value=4, description='Mating season frequency', layout=Layout(width='100%'), max=8, min=1, style=Sli…"
      ]
     },
     "metadata": {},
     "output_type": "display_data"
    },
    {
     "data": {
      "application/vnd.jupyter.widget-view+json": {
       "model_id": "4ba4c23f59e34e2e816fe693a27034e9",
       "version_major": 2,
       "version_minor": 0
      },
      "text/plain": [
       "FloatLogSlider(value=3.0, description='XP for killing a sheep', layout=Layout(width='100%'), max=6.0, step=0.0…"
      ]
     },
     "metadata": {},
     "output_type": "display_data"
    },
    {
     "data": {
      "application/vnd.jupyter.widget-view+json": {
       "model_id": "549a77554ac5496b96bb51005acb8521",
       "version_major": 2,
       "version_minor": 0
      },
      "text/plain": [
       "FloatLogSlider(value=3.0, description='Base XP for killing a bear', layout=Layout(width='100%'), max=7.0, step…"
      ]
     },
     "metadata": {},
     "output_type": "display_data"
    }
   ],
   "source": [
    "sliders_style = {'description_width': 'initial'}\n",
    "sliders_layout = Layout(width = '100%')\n",
    "\n",
    "hunt_succeed_chance_widget = widgets.FloatSlider(value=0.06, min=0, max=1, step=0.01,\n",
    "                                                 description=\"Base hunt success chance\",\n",
    "                                                 style=sliders_style, layout=sliders_layout)\n",
    "display(hunt_succeed_chance_widget)\n",
    "\n",
    "sheep_energy_gain_widget = widgets.FloatLogSlider(value=40, min=0, max=6, step=0.02, description=\"Energy for eating a sheep\",\n",
    "                                                  style=sliders_style, layout=sliders_layout)\n",
    "display(sheep_energy_gain_widget)\n",
    "\n",
    "coward_litter_size_widget = widgets.IntRangeSlider(value=(1, 4), min=1, max=8, description = \"Coward bear litter size\",\n",
    "                                                   style=sliders_style, layout=sliders_layout)\n",
    "display(coward_litter_size_widget)\n",
    "\n",
    "aggressive_litter_size_widget = widgets.IntRangeSlider(value=(1, 6), min=1, max=8, description = \"Aggressive bear litter size\",\n",
    "                                                       style=sliders_style, layout=sliders_layout)\n",
    "display(aggressive_litter_size_widget)\n",
    "\n",
    "coward_parental_care_widget = widgets.IntRangeSlider(value=(8, 16), min=1, max=16, description = \"Coward bear parental care time\",\n",
    "                                                   style=sliders_style, layout=sliders_layout)\n",
    "display(coward_parental_care_widget)\n",
    "\n",
    "aggressive_parental_care_widget = widgets.IntRangeSlider(value=(1, 8), min=1, max=16, description = \"Aggressive bear parental care time\",\n",
    "                                                       style=sliders_style, layout=sliders_layout)\n",
    "display(aggressive_parental_care_widget)\n",
    "\n",
    "mating_season_widget = widgets.IntSlider(value=4, min=1, max=8, description=\"Mating season frequency\",\n",
    "                                         style=sliders_style, layout=sliders_layout)\n",
    "display(mating_season_widget)\n",
    "\n",
    "sheep_xp_widget = widgets.FloatLogSlider(value=3, min=0, max=6, step=0.02, description=\"XP for killing a sheep\",\n",
    "                                         style=sliders_style, layout=sliders_layout)\n",
    "display(sheep_xp_widget)\n",
    "\n",
    "base_bear_xp_widget = widgets.FloatLogSlider(value=3, min=0, max=7, step=0.02,description=\"Base XP for killing a bear\",\n",
    "                                             style=sliders_style, layout=sliders_layout)\n",
    "display(base_bear_xp_widget)"
   ]
  },
  {
   "cell_type": "code",
   "execution_count": 84,
   "id": "3485a18a",
   "metadata": {},
   "outputs": [
    {
     "name": "stdout",
     "output_type": "stream",
     "text": [
      "Initial number wolves:  100\n",
      "Initial number sheep:  500\n",
      "Initial coward bears:  50\n",
      "Initial aggressive bears:  50\n",
      "[1, 90, 45, 539]\n",
      "[2, 68, 38, 592]\n",
      "[3, 54, 31, 652]\n",
      "[4, 40, 26, 697]\n",
      "[5, 36, 24, 754]\n",
      "[6, 29, 21, 814]\n",
      "[7, 27, 20, 875]\n",
      "[8, 23, 18, 950]\n",
      "[9, 21, 17, 1025]\n",
      "[10, 18, 16, 1104]\n",
      "[11, 15, 14, 1213]\n",
      "[12, 14, 13, 1314]\n",
      "[13, 13, 13, 1433]\n",
      "[14, 13, 13, 1562]\n",
      "[15, 13, 13, 1672]\n",
      "[16, 13, 13, 1825]\n",
      "[17, 15, 15, 1983]\n",
      "[18, 14, 14, 2000]\n",
      "[19, 13, 13, 1998]\n",
      "[20, 13, 13, 2000]\n",
      "[21, 13, 13, 1998]\n",
      "[22, 13, 13, 1999]\n",
      "[23, 13, 13, 1997]\n",
      "[24, 13, 13, 1999]\n",
      "[25, 13, 13, 1998]\n",
      "[26, 13, 13, 1999]\n",
      "[27, 13, 13, 1998]\n",
      "[28, 13, 13, 1999]\n",
      "[29, 15, 15, 1997]\n",
      "[30, 15, 15, 2000]\n",
      "[31, 15, 15, 1998]\n",
      "[32, 15, 15, 1998]\n",
      "[33, 19, 19, 1997]\n",
      "[34, 19, 19, 1998]\n",
      "[35, 18, 18, 1997]\n",
      "[36, 18, 18, 1996]\n",
      "[37, 20, 20, 2000]\n",
      "[38, 20, 20, 2000]\n",
      "[39, 17, 17, 1999]\n",
      "[40, 16, 16, 1998]\n",
      "[41, 18, 18, 1998]\n",
      "[42, 18, 18, 1997]\n",
      "[43, 18, 18, 1998]\n",
      "[44, 18, 18, 1997]\n",
      "[45, 18, 18, 1998]\n",
      "[46, 18, 18, 1997]\n",
      "[47, 18, 18, 1993]\n",
      "[48, 18, 18, 1997]\n",
      "[49, 20, 20, 2000]\n",
      "[50, 20, 20, 1999]\n",
      "[51, 18, 18, 1997]\n",
      "[52, 18, 18, 1998]\n",
      "[53, 21, 21, 1999]\n",
      "[54, 18, 18, 1998]\n",
      "[55, 17, 17, 1997]\n",
      "[56, 17, 17, 1999]\n",
      "[57, 21, 21, 1996]\n",
      "[58, 21, 21, 1996]\n",
      "[59, 20, 20, 1994]\n",
      "[60, 20, 20, 1997]\n",
      "[61, 19, 19, 1993]\n",
      "[62, 17, 17, 1995]\n",
      "[63, 17, 17, 1997]\n",
      "[64, 16, 16, 1997]\n",
      "[65, 15, 15, 1999]\n",
      "[66, 15, 15, 1999]\n",
      "[67, 15, 15, 1998]\n",
      "[68, 15, 15, 1998]\n",
      "[69, 14, 14, 1997]\n",
      "[70, 14, 14, 1994]\n",
      "[71, 14, 14, 1997]\n",
      "[72, 14, 14, 2000]\n",
      "[73, 14, 14, 1997]\n",
      "[74, 13, 13, 1996]\n",
      "[75, 10, 10, 2000]\n",
      "[76, 9, 9, 1996]\n",
      "[77, 9, 9, 1998]\n",
      "[78, 8, 8, 1998]\n",
      "[79, 7, 7, 1999]\n",
      "[80, 7, 7, 2000]\n",
      "[81, 7, 7, 1996]\n",
      "[82, 7, 7, 2000]\n",
      "[83, 7, 7, 1998]\n",
      "[84, 7, 7, 2000]\n",
      "[85, 7, 7, 1998]\n",
      "[86, 7, 7, 1996]\n",
      "[87, 7, 7, 1999]\n",
      "[88, 6, 6, 1999]\n",
      "[89, 6, 6, 1998]\n",
      "[90, 6, 6, 2000]\n",
      "[91, 6, 6, 2000]\n",
      "[92, 6, 6, 2000]\n",
      "[93, 6, 6, 1998]\n",
      "[94, 6, 6, 1999]\n",
      "[95, 6, 6, 1999]\n",
      "[96, 6, 6, 2000]\n",
      "[97, 6, 6, 1999]\n",
      "[98, 6, 6, 1999]\n",
      "[99, 6, 6, 2000]\n",
      "[100, 6, 6, 2000]\n",
      "[101, 5, 5, 1999]\n",
      "[102, 5, 5, 1999]\n",
      "[103, 5, 5, 2000]\n",
      "[104, 5, 5, 1998]\n",
      "[105, 5, 5, 1999]\n",
      "[106, 5, 5, 2000]\n",
      "[107, 5, 5, 2000]\n",
      "[108, 5, 5, 2000]\n",
      "[109, 5, 5, 1998]\n",
      "[110, 5, 5, 2000]\n",
      "[111, 5, 5, 2000]\n",
      "[112, 5, 5, 2000]\n",
      "[113, 5, 5, 1999]\n",
      "[114, 5, 5, 2000]\n",
      "[115, 5, 5, 1999]\n",
      "[116, 5, 5, 1998]\n",
      "[117, 5, 5, 1999]\n",
      "[118, 5, 5, 1998]\n",
      "[119, 5, 5, 1999]\n",
      "[120, 5, 5, 1999]\n",
      "[121, 5, 5, 1999]\n",
      "[122, 5, 5, 2000]\n",
      "[123, 5, 5, 1999]\n",
      "[124, 5, 5, 1999]\n",
      "[125, 5, 5, 1999]\n",
      "[126, 5, 5, 1999]\n",
      "[127, 5, 5, 1998]\n",
      "[128, 5, 5, 1999]\n",
      "[129, 5, 5, 2000]\n",
      "[130, 5, 5, 1999]\n",
      "[131, 5, 5, 1999]\n",
      "[132, 5, 5, 1998]\n",
      "[133, 5, 5, 1999]\n",
      "[134, 5, 5, 2000]\n",
      "[135, 5, 5, 1999]\n",
      "[136, 5, 5, 2000]\n",
      "[137, 5, 5, 1999]\n",
      "[138, 5, 5, 1999]\n",
      "[139, 5, 5, 2000]\n",
      "[140, 5, 5, 1999]\n",
      "[141, 5, 5, 1998]\n",
      "[142, 5, 5, 1999]\n",
      "[143, 5, 5, 1998]\n",
      "[144, 5, 5, 1999]\n",
      "[145, 5, 5, 2000]\n",
      "[146, 5, 5, 1999]\n",
      "[147, 5, 5, 1999]\n",
      "[148, 5, 5, 1999]\n",
      "[149, 5, 5, 2000]\n",
      "[150, 5, 5, 1998]\n",
      "[151, 5, 5, 2000]\n",
      "[152, 5, 5, 2000]\n",
      "[153, 5, 5, 1998]\n",
      "[154, 5, 5, 1998]\n",
      "[155, 5, 5, 2000]\n",
      "[156, 5, 5, 1999]\n",
      "[157, 5, 5, 2000]\n",
      "[158, 5, 5, 1997]\n",
      "[159, 5, 5, 1998]\n",
      "[160, 4, 4, 1998]\n",
      "[161, 4, 4, 1999]\n",
      "[162, 4, 4, 1999]\n",
      "[163, 4, 4, 1999]\n",
      "[164, 4, 4, 1999]\n",
      "[165, 4, 4, 2000]\n",
      "[166, 4, 4, 1999]\n",
      "[167, 4, 4, 2000]\n",
      "[168, 4, 4, 1999]\n",
      "[169, 4, 4, 1999]\n",
      "[170, 4, 4, 1998]\n",
      "[171, 4, 4, 1999]\n",
      "[172, 4, 4, 1999]\n",
      "[173, 4, 4, 1999]\n",
      "[174, 4, 4, 1998]\n",
      "[175, 4, 4, 1998]\n",
      "[176, 4, 4, 1998]\n",
      "[177, 4, 4, 1998]\n",
      "[178, 4, 4, 1997]\n",
      "[179, 3, 3, 2000]\n",
      "[180, 3, 3, 1999]\n",
      "[181, 3, 3, 2000]\n",
      "[182, 3, 3, 2000]\n",
      "[183, 3, 3, 1998]\n",
      "[184, 3, 3, 1999]\n",
      "[185, 3, 3, 2000]\n",
      "[186, 3, 3, 2000]\n",
      "[187, 3, 3, 1998]\n",
      "[188, 3, 3, 2000]\n",
      "[189, 3, 3, 1999]\n",
      "[190, 3, 3, 1999]\n",
      "[191, 3, 3, 1999]\n",
      "[192, 3, 3, 2000]\n",
      "[193, 3, 3, 2000]\n",
      "[194, 3, 3, 2000]\n",
      "[195, 3, 3, 1999]\n",
      "[196, 3, 3, 1999]\n",
      "[197, 3, 3, 1999]\n",
      "[198, 3, 3, 1998]\n",
      "[199, 3, 3, 2000]\n",
      "[200, 3, 3, 2000]\n",
      "\n",
      "Final number wolves:  3\n",
      "Final number sheep:  2000\n",
      "Final coward bears:  3\n",
      "Final aggressive bears:  0\n",
      "     Bears  Sheep  Coward bears  Aggressive bears  Average coward level  \\\n",
      "0       90    539            45                45              1.000000   \n",
      "1       68    592            38                30              1.000000   \n",
      "2       54    652            31                23              1.032258   \n",
      "3       40    697            26                14              1.153846   \n",
      "4       36    754            24                12              1.166667   \n",
      "..     ...    ...           ...               ...                   ...   \n",
      "195      3   1999             3                 0              4.000000   \n",
      "196      3   1999             3                 0              4.000000   \n",
      "197      3   1998             3                 0              4.000000   \n",
      "198      3   2000             3                 0              4.000000   \n",
      "199      3   2000             3                 0              4.000000   \n",
      "\n",
      "     Average aggressive level  Cubs  \n",
      "0                    1.022222     7  \n",
      "1                    1.133333     7  \n",
      "2                    1.391304     2  \n",
      "3                    1.500000     2  \n",
      "4                    1.583333     2  \n",
      "..                        ...   ...  \n",
      "195                  0.000000     0  \n",
      "196                  0.000000     0  \n",
      "197                  0.000000     0  \n",
      "198                  0.000000     0  \n",
      "199                  0.000000     0  \n",
      "\n",
      "[200 rows x 7 columns]\n"
     ]
    }
   ],
   "source": [
    "from model import BearSheepPredation\n",
    "\n",
    "model = BearSheepPredation(sheep_reproduce=0.08,initial_sheep=500,initial_aggressive=50,\n",
    "                           bear_gain_from_food=int(sheep_energy_gain_widget.value),\n",
    "                           mating_season_frequency=mating_season_widget.value,\n",
    "                           coward_litter_size_range=coward_litter_size_widget.value,\n",
    "                           aggressive_litter_size_range=aggressive_litter_size_widget.value,\n",
    "                           coward_parental_care_range=coward_parental_care_widget.value,\n",
    "                           aggressive_parental_care_range=aggressive_parental_care_widget.value,\n",
    "                           encounter_rate=1,\n",
    "                           xp_for_sheep = sheep_xp_widget.value,\n",
    "                           xp_for_bear = base_bear_xp_widget.value)\n",
    "model.run_model()\n",
    "#server = ModularServer(WolfSheepPredation\n",
    "print(model.datacollector.get_model_vars_dataframe())\n",
    "playground_df = model.datacollector.get_model_vars_dataframe()"
   ]
  },
  {
   "cell_type": "code",
   "execution_count": 65,
   "id": "b4e094ad",
   "metadata": {},
   "outputs": [
    {
     "data": {
      "image/png": "[encoded data removed]",
      "text/plain": [
       "<Figure size 432x288 with 1 Axes>"
      ]
     },
     "metadata": {
      "needs_background": "light"
     },
     "output_type": "display_data"
    }
   ],
   "source": [
    "playground_df[\"Coward bears\"].plot(label=\"Coward bears\")\n",
    "playground_df[\"Aggressive bears\"].plot(label=\"Aggressive bears\")\n",
    "plt.title(\"Number of bears per time\")\n",
    "plt.legend()\n",
    "plt.show()"
   ]
  },
  {
   "cell_type": "code",
   "execution_count": 86,
   "id": "3d29ace5",
   "metadata": {},
   "outputs": [
    {
     "data": {
      "image/png": "[encoded data removed]",
      "text/plain": [
       "<Figure size 432x288 with 1 Axes>"
      ]
     },
     "metadata": {
      "needs_background": "light"
     },
     "output_type": "display_data"
    }
   ],
   "source": [
    "playground_df[\"Average coward level\"].plot(label=\"Coward bears\")\n",
    "playground_df[\"Average aggressive level\"].plot(label=\"Aggressive bears\")\n",
    "plt.title(\"Average bear level\")\n",
    "plt.legend()\n",
    "plt.show()"
   ]
  },
  {
   "cell_type": "code",
   "execution_count": 12,
   "id": "ad621a9a",
   "metadata": {},
   "outputs": [
    {
     "data": {
      "image/png": "[encoded data removed]",
      "text/plain": [
       "<Figure size 432x288 with 1 Axes>"
      ]
     },
     "metadata": {
      "needs_background": "light"
     },
     "output_type": "display_data"
    }
   ],
   "source": [
    "playground_df[\"Cubs\"].plot(label=\"Cubs\")\n",
    "plt.show()"
   ]
  },
  {
   "cell_type": "code",
   "execution_count": null,
   "id": "7f4e8269",
   "metadata": {},
   "outputs": [],
   "source": []
  }
 ],
 "metadata": {
  "kernelspec": {
   "display_name": "Python 3 (ipykernel)",
   "language": "python",
   "name": "python3"
  },
  "language_info": {
   "codemirror_mode": {
    "name": "ipython",
    "version": 3
   },
   "file_extension": ".py",
   "mimetype": "text/x-python",
   "name": "python",
   "nbconvert_exporter": "python",
   "pygments_lexer": "ipython3",
   "version": "3.9.2"
  }
 },
 "nbformat": 4,
 "nbformat_minor": 5
}
